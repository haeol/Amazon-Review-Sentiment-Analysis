{
 "cells": [
  {
   "cell_type": "code",
   "execution_count": 1,
   "metadata": {
    "collapsed": true
   },
   "outputs": [],
   "source": [
    "from Doc2VecSentimentAnalysis import *\n",
    "from sklearn.linear_model import LogisticRegression"
   ]
  },
  {
   "cell_type": "code",
   "execution_count": 2,
   "metadata": {
    "collapsed": true
   },
   "outputs": [],
   "source": [
    "TRAINING_TOTAL = 50000\n",
    "TESTING_TOTAL = 25000"
   ]
  },
  {
   "cell_type": "code",
   "execution_count": 3,
   "metadata": {
    "collapsed": true
   },
   "outputs": [],
   "source": [
    "def classify(trainer, text):\n",
    "    avg = 0\n",
    "    for i in range(500):\n",
    "        avg += trainer.classify(text)\n",
    "    return avg/500\n",
    "\n",
    "def connotation(text):\n",
    "    r5 = classify(trainers['5'], (text))[0]\n",
    "    r3 = classify(trainers['3'], (text))[0]\n",
    "    r2 = classify(trainers['2'], (text))[0]\n",
    "    print('5 ratings:', r5)\n",
    "    print('3 ratings:', r3)\n",
    "    print('2 ratings:', r2)\n",
    "    print('  average:', sum([r5, r3, r2])/3)\n",
    "    "
   ]
  },
  {
   "cell_type": "code",
   "execution_count": 17,
   "metadata": {},
   "outputs": [
    {
     "name": "stdout",
     "output_type": "stream",
     "text": [
      "0.88904\n"
     ]
    }
   ],
   "source": [
    "print(trainers['2'].score())"
   ]
  },
  {
   "cell_type": "code",
   "execution_count": 4,
   "metadata": {},
   "outputs": [
    {
     "data": {
      "text/plain": [
       "LogisticRegression(C=0.001, class_weight=None, dual=False, fit_intercept=True,\n",
       "          intercept_scaling=1, max_iter=10, multi_class='ovr', n_jobs=1,\n",
       "          penalty='l2', random_state=None, solver='liblinear', tol=0.0001,\n",
       "          verbose=0, warm_start=False)"
      ]
     },
     "execution_count": 4,
     "metadata": {},
     "output_type": "execute_result"
    }
   ],
   "source": [
    "# Note: reviews have to be loaded from the Google drive and unzipped into the local folder\n",
    "d2v_model = Doc2Vec.load('./epoch20_reviews375k_d2v/amazon_dataset_75000.d2v')\n",
    "\n",
    "mt5r = ModelTrainer(d2v_model, TRAINING_TOTAL, TESTING_TOTAL)\n",
    "mt5r.generate_sets([1,2,3,4,5])\n",
    "mt5r.train(LogisticRegression(C=0.001, max_iter=10))\n",
    "\n",
    "mt3r = ModelTrainer(d2v_model, TRAINING_TOTAL, TESTING_TOTAL)\n",
    "mt3r.generate_sets([1,3,5])\n",
    "mt3r.train(LogisticRegression(C=0.001, max_iter=10))\n",
    "\n",
    "mt2r = ModelTrainer(d2v_model, TRAINING_TOTAL, TESTING_TOTAL)\n",
    "mt2r.generate_sets([1,5])\n",
    "mt2r.train(LogisticRegression(C=0.001, max_iter=10))"
   ]
  },
  {
   "cell_type": "code",
   "execution_count": 5,
   "metadata": {
    "collapsed": true
   },
   "outputs": [],
   "source": [
    "trainers = {\n",
    "    '5' : mt5r,\n",
    "    '3' : mt3r,\n",
    "    '2' : mt2r\n",
    "}"
   ]
  },
  {
   "cell_type": "code",
   "execution_count": 25,
   "metadata": {},
   "outputs": [
    {
     "name": "stdout",
     "output_type": "stream",
     "text": [
      "5 ratings: 4.754\n",
      "3 ratings: 4.464\n",
      "2 ratings: 4.08\n",
      "  average: 4.43266666667\n"
     ]
    }
   ],
   "source": [
    "text = '''\n",
    "\n",
    "Sample review here.\n",
    "\n",
    "'''\n",
    "\n",
    "connotation(text)"
   ]
  },
  {
   "cell_type": "code",
   "execution_count": null,
   "metadata": {
    "collapsed": true
   },
   "outputs": [],
   "source": []
  }
 ],
 "metadata": {
  "kernelspec": {
   "display_name": "Python 3",
   "language": "python",
   "name": "python3"
  },
  "language_info": {
   "codemirror_mode": {
    "name": "ipython",
    "version": 3
   },
   "file_extension": ".py",
   "mimetype": "text/x-python",
   "name": "python",
   "nbconvert_exporter": "python",
   "pygments_lexer": "ipython3",
   "version": "3.6.3"
  }
 },
 "nbformat": 4,
 "nbformat_minor": 2
}
